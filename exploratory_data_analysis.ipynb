{
 "cells": [
  {
   "cell_type": "markdown",
   "id": "8529bec2-667e-4408-b86a-6afb74773e6a",
   "metadata": {},
   "source": [
    "Module - CIS7017 Dissertation\n",
    "Student ID - #20275320"
   ]
  },
  {
   "cell_type": "markdown",
   "source": [
    "## Load data"
   ],
   "metadata": {
    "collapsed": false
   },
   "id": "49b6650214d0ad84"
  },
  {
   "cell_type": "code",
   "execution_count": null,
   "id": "3f86eec08bab5bb9",
   "metadata": {
    "collapsed": false
   },
   "outputs": [],
   "source": [
    "# Import all relevant libraries\n",
    "\n",
    "import matplotlib.pyplot as plt\n",
    "import pandas as pd"
   ]
  },
  {
   "cell_type": "code",
   "execution_count": null,
   "outputs": [],
   "source": [
    "# Load the saved dataset\n",
    "df = pd.read_csv('utah_traffic_accidents.csv')"
   ],
   "metadata": {
    "collapsed": false
   },
   "id": "1ab7024128d395b6"
  },
  {
   "cell_type": "code",
   "execution_count": null,
   "outputs": [],
   "source": [
    "import matplotlib.pyplot as plt\n",
    "\n",
    "# Plotting the altitude distribution\n",
    "plt.figure(figsize=(10, 6))\n",
    "plt.hist(df['Altitude'].dropna(), bins=50, color='skyblue', edgecolor='black') \n",
    "plt.title('Altitude Distribution of the dataset') \n",
    "plt.xlabel('Altitude (meters)')\n",
    "plt.ylabel('Frequency')\n",
    "plt.grid(axis='y', alpha=0.75)\n",
    "plt.show()"
   ],
   "metadata": {
    "collapsed": false
   },
   "id": "72d852cd472ed02a"
  },
  {
   "cell_type": "code",
   "execution_count": null,
   "outputs": [],
   "source": [
    "import folium\n",
    "\n",
    "# Define a approximate central point for initializing the map.\n",
    "central_utah = [39.3210, -111.0937]\n",
    "\n",
    "# Create a map centered around this point\n",
    "utah_map = folium.Map(location=central_utah, zoom_start=6)\n",
    "\n",
    "# adding each accident location as a marker on the map\n",
    "for idx, row in df.iterrows():\n",
    "    if not pd.isna(row['Start_Lat']) and not pd.isna(row['Start_Lng']):\n",
    "        folium.CircleMarker(\n",
    "            location=[row['Start_Lat'], row['Start_Lng']],\n",
    "            radius=2,\n",
    "            color='red',\n",
    "            fill=True,\n",
    "            fill_color='red',\n",
    "            fill_opacity=0.3\n",
    "        ).add_to(utah_map)\n",
    "\n",
    "# Show the map\n",
    "utah_map\n"
   ],
   "metadata": {
    "collapsed": false
   },
   "id": "1f7d900515928999"
  },
  {
   "cell_type": "markdown",
   "source": [
    "## Heat map of existing data points"
   ],
   "metadata": {
    "collapsed": false
   },
   "id": "e386691b25ed6f0a"
  },
  {
   "cell_type": "code",
   "execution_count": null,
   "outputs": [],
   "source": [
    "import folium\n",
    "from folium.plugins import HeatMap\n",
    "\n",
    "central_utah = [39.3210, -111.0937]\n",
    "utah_map = folium.Map(location=central_utah, zoom_start=6)\n",
    "\n",
    "# Extract latitude and longitude pairs for the heatmap\n",
    "heat_data = [[row['Start_Lat'], row['Start_Lng']] for index, row in df.iterrows()]\n",
    "\n",
    "# Create and add a HeatMap layer\n",
    "HeatMap(heat_data).add_to(utah_map)\n",
    "\n",
    "utah_map\n"
   ],
   "metadata": {
    "collapsed": false
   },
   "id": "21d70f7e286d4cd"
  }
 ],
 "metadata": {
  "kernelspec": {
   "display_name": "Python 3 (ipykernel)",
   "language": "python",
   "name": "python3"
  },
  "language_info": {
   "codemirror_mode": {
    "name": "ipython",
    "version": 3
   },
   "file_extension": ".py",
   "mimetype": "text/x-python",
   "name": "python",
   "nbconvert_exporter": "python",
   "pygments_lexer": "ipython3",
   "version": "3.12.0"
  }
 },
 "nbformat": 4,
 "nbformat_minor": 5
}
