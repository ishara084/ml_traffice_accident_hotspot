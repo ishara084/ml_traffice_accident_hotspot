{
 "cells": [
  {
   "cell_type": "markdown",
   "id": "8529bec2-667e-4408-b86a-6afb74773e6a",
   "metadata": {},
   "source": [
    "Module - CIS7017 Dissertation\n",
    "Student ID - #20275320"
   ]
  },
  {
   "cell_type": "markdown",
   "id": "49b6650214d0ad84",
   "metadata": {
    "collapsed": false
   },
   "source": [
    "## Load data"
   ]
  },
  {
   "cell_type": "code",
   "execution_count": 1,
   "id": "3f86eec08bab5bb9",
   "metadata": {
    "collapsed": false,
    "ExecuteTime": {
     "end_time": "2024-04-17T18:42:59.562360600Z",
     "start_time": "2024-04-17T18:42:59.558353600Z"
    }
   },
   "outputs": [],
   "source": [
    "# Import all relevant libraries\n",
    "\n",
    "import matplotlib.pyplot as plt\n",
    "import pandas as pd\n",
    "import matplotlib.pyplot as plt\n",
    "import seaborn as sns\n",
    "import numpy as np"
   ]
  },
  {
   "cell_type": "code",
   "execution_count": null,
   "id": "1ab7024128d395b6",
   "metadata": {
    "collapsed": false
   },
   "outputs": [],
   "source": [
    "# Load the saved dataset\n",
    "df = pd.read_csv('utah_traffic_accidents.csv')\n",
    "df"
   ]
  },
  {
   "cell_type": "code",
   "execution_count": 1,
   "outputs": [
    {
     "ename": "NameError",
     "evalue": "name 'df' is not defined",
     "output_type": "error",
     "traceback": [
      "\u001B[1;31m---------------------------------------------------------------------------\u001B[0m",
      "\u001B[1;31mNameError\u001B[0m                                 Traceback (most recent call last)",
      "Cell \u001B[1;32mIn[1], line 1\u001B[0m\n\u001B[1;32m----> 1\u001B[0m \u001B[43mdf\u001B[49m\n",
      "\u001B[1;31mNameError\u001B[0m: name 'df' is not defined"
     ]
    }
   ],
   "source": [
    "df"
   ],
   "metadata": {
    "collapsed": false,
    "ExecuteTime": {
     "end_time": "2024-04-18T00:13:56.641221200Z",
     "start_time": "2024-04-18T00:13:56.246541300Z"
    }
   },
   "id": "6603eac02bac6e61"
  },
  {
   "cell_type": "code",
   "execution_count": null,
   "id": "bbbd1c77bac846d7",
   "metadata": {
    "collapsed": false
   },
   "outputs": [],
   "source": [
    "# Checking categorical values of features\n",
    "\n",
    "for column in ['City', 'Wind_Direction']:\n",
    "    print(f\"\\nValue Counts for {column}:\")\n",
    "    print(df[column].value_counts())"
   ]
  },
  {
   "cell_type": "code",
   "execution_count": null,
   "id": "53f9113e7d0def3e",
   "metadata": {
    "collapsed": false
   },
   "outputs": [],
   "source": [
    "# Time series analysis on daily incidents over time.\n",
    "\n",
    "df['Start_Time'] = pd.to_datetime(df['Start_Time'])\n",
    "df.set_index('Start_Time', inplace=True)\n",
    "daily_accidents = df.resample('D').size()\n",
    "\n",
    "# Plotting the time series of accidents\n",
    "plt.figure(figsize=(12, 6))\n",
    "plt.plot(daily_accidents, label='Daily Accidents', color='blue')\n",
    "plt.title('Daily Traffic Accidents Over Time')\n",
    "plt.xlabel('Date')\n",
    "plt.ylabel('Number of Accidents')\n",
    "plt.legend()\n",
    "plt.grid(True)\n",
    "plt.tight_layout()\n",
    "plt.show()"
   ]
  },
  {
   "cell_type": "code",
   "execution_count": null,
   "id": "72d852cd472ed02a",
   "metadata": {
    "collapsed": false
   },
   "outputs": [],
   "source": [
    "# Plotting the altitude distribution\n",
    "\n",
    "plt.figure(figsize=(10, 6))\n",
    "plt.hist(df['Altitude'].dropna(), bins=50, color='skyblue', edgecolor='black') \n",
    "plt.title('Altitude Distribution of the dataset') \n",
    "plt.xlabel('Altitude (meters)')\n",
    "plt.ylabel('Frequency')\n",
    "plt.grid(axis='y', alpha=0.75)\n",
    "plt.show()"
   ]
  },
  {
   "cell_type": "code",
   "execution_count": null,
   "outputs": [],
   "source": [
    "# correlation heatmap for numerical variables\n",
    "numerical_heatmap = [\n",
    "       'Severity', 'Altitude', 'Distance','Temperature',\n",
    "       'Humidity', 'Pressure', 'Visibility','Wind_Speed', 'Precipitation'\n",
    "]\n",
    "    \n",
    "#heat map to find extreme positive and negative correlations\n",
    "plt.figure(figsize=(10, 10))\n",
    "sns.heatmap(df[numerical_heatmap].corr(), annot=True)\n",
    "plt.title('Correlation Heatmap for numerical weather variables', fontdict={'fontsize':12}, pad=12);"
   ],
   "metadata": {
    "collapsed": false
   },
   "id": "c4e85c499f6fedc3"
  },
  {
   "cell_type": "code",
   "execution_count": null,
   "outputs": [],
   "source": [
    "# correlation heatmap for categorical variables\n",
    "\n",
    "numerical_heatmap = [\n",
    "       'Severity', 'Altitude', 'Distance','Temperature',\n",
    "       'Humidity', 'Pressure', 'Visibility','Wind_Speed', 'Precipitation', 'Civil_Twilight'\n",
    "]\n",
    "\n",
    "df_with_dummies = pd.get_dummies(df[numerical_heatmap], columns=['Civil_Twilight'])\n",
    "correlation_matrix = df_with_dummies.corr()\n",
    "mask = np.triu(np.ones_like(correlation_matrix, dtype=bool))\n",
    "fig, ax = plt.subplots(figsize=(15, 10))\n",
    "sns.heatmap(correlation_matrix, mask=mask, annot=True, cmap='coolwarm', center=0,\n",
    "            square=True, linewidths=.5, cbar_kws={\"shrink\": .5})\n",
    "\n",
    "plt.title('Correlation Heatmap including Categorical Variables')\n",
    "plt.show()\n"
   ],
   "metadata": {
    "collapsed": false
   },
   "id": "186dcbc10becdd46"
  },
  {
   "cell_type": "code",
   "execution_count": null,
   "id": "1f7d900515928999",
   "metadata": {
    "collapsed": false
   },
   "outputs": [],
   "source": [
    "import folium\n",
    "\n",
    "# Define a approximate central point for initializing the map.\n",
    "central_utah = [39.3210, -111.0937]\n",
    "\n",
    "# Create a map centered around this point\n",
    "utah_map = folium.Map(location=central_utah, zoom_start=6, tiles='Stamen Terrain', attr=\"folium\")\n",
    "\n",
    "# adding each accident location as a marker on the map\n",
    "for idx, row in df.iterrows():\n",
    "    if not pd.isna(row['Geo_lat']) and not pd.isna(row['Geo_lng']):\n",
    "        folium.CircleMarker(\n",
    "            location=[row['Geo_lat'], row['Geo_lng']],\n",
    "            radius=2,\n",
    "            color='red',\n",
    "            fill=True,\n",
    "            fill_color='red',\n",
    "            fill_opacity=0.3\n",
    "        ).add_to(utah_map)\n",
    "\n",
    "# Show the map\n",
    "utah_map\n"
   ]
  },
  {
   "cell_type": "markdown",
   "id": "e386691b25ed6f0a",
   "metadata": {
    "collapsed": false
   },
   "source": [
    "## Heat map of existing data points"
   ]
  },
  {
   "cell_type": "code",
   "execution_count": null,
   "outputs": [],
   "source": [
    "import folium\n",
    "from folium.plugins import HeatMap\n",
    "\n",
    "# Creating a base map using the average latitude and longitude from the dataset\n",
    "m = folium.Map(location=[df['Geo_lat'].mean(), df['Geo_lng'].mean()], zoom_start=5)\n",
    "\n",
    "# Adding a heatmap layer to the base map\n",
    "# 'data' expects a list of points of the form [latitude, longitude, weight]\n",
    "heatmap_data = df[['Geo_lat', 'Geo_lng']].values  # 'Severity' as a placeholder for the weight\n",
    "HeatMap(heatmap_data, radius=10, max_zoom=13).add_to(m)\n",
    "\n",
    "# Save to an HTML file (Open with browser)\n",
    "m.save('heatmap.html')\n"
   ],
   "metadata": {
    "collapsed": false
   },
   "id": "2e320354378ddb86"
  },
  {
   "cell_type": "code",
   "execution_count": null,
   "id": "21d70f7e286d4cd",
   "metadata": {
    "collapsed": false
   },
   "outputs": [],
   "source": [
    "import folium\n",
    "from folium.plugins import HeatMap\n",
    "\n",
    "central_utah = [39.3210, -111.0937]\n",
    "utah_map = folium.Map(location=central_utah, zoom_start=6)\n",
    "\n",
    "# Extract latitude and longitude pairs for the heatmap\n",
    "heat_data = [[row['Geo_lat'], row['Geo_lng']] for index, row in df.iterrows()]\n",
    "\n",
    "# Create and add a HeatMap layer\n",
    "HeatMap(heat_data).add_to(utah_map)\n",
    "\n",
    "utah_map\n"
   ]
  }
 ],
 "metadata": {
  "kernelspec": {
   "display_name": "Python 3 (ipykernel)",
   "language": "python",
   "name": "python3"
  },
  "language_info": {
   "codemirror_mode": {
    "name": "ipython",
    "version": 3
   },
   "file_extension": ".py",
   "mimetype": "text/x-python",
   "name": "python",
   "nbconvert_exporter": "python",
   "pygments_lexer": "ipython3",
   "version": "3.11.6"
  }
 },
 "nbformat": 4,
 "nbformat_minor": 5
}
